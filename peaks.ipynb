{
 "cells": [
  {
   "cell_type": "code",
   "execution_count": 71,
   "metadata": {},
   "outputs": [],
   "source": [
    "import pandas as pd"
   ]
  },
  {
   "cell_type": "code",
   "execution_count": 72,
   "metadata": {},
   "outputs": [],
   "source": [
    "import numpy as np"
   ]
  },
  {
   "cell_type": "code",
   "execution_count": 73,
   "metadata": {},
   "outputs": [],
   "source": [
    "peaks = pd.read_csv('data/peaks9k.csv', dtype = {'Latitude': str, 'Longitude': str})"
   ]
  },
  {
   "cell_type": "code",
   "execution_count": 74,
   "metadata": {},
   "outputs": [
    {
     "data": {
      "text/html": [
       "<div>\n",
       "<style scoped>\n",
       "    .dataframe tbody tr th:only-of-type {\n",
       "        vertical-align: middle;\n",
       "    }\n",
       "\n",
       "    .dataframe tbody tr th {\n",
       "        vertical-align: top;\n",
       "    }\n",
       "\n",
       "    .dataframe thead th {\n",
       "        text-align: right;\n",
       "    }\n",
       "</style>\n",
       "<table border=\"1\" class=\"dataframe\">\n",
       "  <thead>\n",
       "    <tr style=\"text-align: right;\">\n",
       "      <th></th>\n",
       "      <th>Summit Name</th>\n",
       "      <th>Elevation</th>\n",
       "      <th>Latitude</th>\n",
       "      <th>Longitude</th>\n",
       "    </tr>\n",
       "  </thead>\n",
       "  <tbody>\n",
       "    <tr>\n",
       "      <th>0</th>\n",
       "      <td>Trapper Peak</td>\n",
       "      <td>10,157'</td>\n",
       "      <td>45.88989 N</td>\n",
       "      <td>114.29685 W</td>\n",
       "    </tr>\n",
       "    <tr>\n",
       "      <th>1</th>\n",
       "      <td>El Capitan</td>\n",
       "      <td>9,983'</td>\n",
       "      <td>46.00746 N</td>\n",
       "      <td>114.39604 W</td>\n",
       "    </tr>\n",
       "    <tr>\n",
       "      <th>2</th>\n",
       "      <td>The Shard (point 9883)</td>\n",
       "      <td>9,883'</td>\n",
       "      <td>45.95842 N</td>\n",
       "      <td>114.33598 W</td>\n",
       "    </tr>\n",
       "    <tr>\n",
       "      <th>3</th>\n",
       "      <td>Boulder Peak</td>\n",
       "      <td>9,804'</td>\n",
       "      <td>45.84721 N</td>\n",
       "      <td>114.34191 W</td>\n",
       "    </tr>\n",
       "    <tr>\n",
       "      <th>4</th>\n",
       "      <td>North Trapper Peak</td>\n",
       "      <td>9,801'</td>\n",
       "      <td>45.90064 N</td>\n",
       "      <td>114.28955 W</td>\n",
       "    </tr>\n",
       "  </tbody>\n",
       "</table>\n",
       "</div>"
      ],
      "text/plain": [
       "              Summit Name Elevation    Latitude    Longitude\n",
       "0            Trapper Peak   10,157'  45.88989 N  114.29685 W\n",
       "1              El Capitan    9,983'  46.00746 N  114.39604 W\n",
       "2  The Shard (point 9883)    9,883'  45.95842 N  114.33598 W\n",
       "3            Boulder Peak    9,804'  45.84721 N  114.34191 W\n",
       "4      North Trapper Peak    9,801'  45.90064 N  114.28955 W"
      ]
     },
     "execution_count": 74,
     "metadata": {},
     "output_type": "execute_result"
    }
   ],
   "source": [
    "peaks.head()"
   ]
  },
  {
   "cell_type": "code",
   "execution_count": 75,
   "metadata": {},
   "outputs": [
    {
     "name": "stdout",
     "output_type": "stream",
     "text": [
      "<class 'pandas.core.frame.DataFrame'>\n",
      "RangeIndex: 44 entries, 0 to 43\n",
      "Data columns (total 4 columns):\n",
      "Summit Name    44 non-null object\n",
      "Elevation      44 non-null object\n",
      "Latitude       44 non-null object\n",
      "Longitude      44 non-null object\n",
      "dtypes: object(4)\n",
      "memory usage: 1.4+ KB\n"
     ]
    }
   ],
   "source": [
    "peaks.info()"
   ]
  },
  {
   "cell_type": "code",
   "execution_count": 76,
   "metadata": {},
   "outputs": [],
   "source": [
    "peaks['Latitude'] = pd.to_numeric(peaks['Latitude'].str.replace(' N', ''))"
   ]
  },
  {
   "cell_type": "code",
   "execution_count": 77,
   "metadata": {},
   "outputs": [],
   "source": [
    "peaks['Longitude'] = pd.to_numeric(peaks['Longitude'].str.replace(' W', '')) * -1"
   ]
  },
  {
   "cell_type": "code",
   "execution_count": 78,
   "metadata": {},
   "outputs": [
    {
     "data": {
      "text/html": [
       "<div>\n",
       "<style scoped>\n",
       "    .dataframe tbody tr th:only-of-type {\n",
       "        vertical-align: middle;\n",
       "    }\n",
       "\n",
       "    .dataframe tbody tr th {\n",
       "        vertical-align: top;\n",
       "    }\n",
       "\n",
       "    .dataframe thead th {\n",
       "        text-align: right;\n",
       "    }\n",
       "</style>\n",
       "<table border=\"1\" class=\"dataframe\">\n",
       "  <thead>\n",
       "    <tr style=\"text-align: right;\">\n",
       "      <th></th>\n",
       "      <th>Summit Name</th>\n",
       "      <th>Elevation</th>\n",
       "      <th>Latitude</th>\n",
       "      <th>Longitude</th>\n",
       "    </tr>\n",
       "  </thead>\n",
       "  <tbody>\n",
       "    <tr>\n",
       "      <th>0</th>\n",
       "      <td>Trapper Peak</td>\n",
       "      <td>10,157'</td>\n",
       "      <td>45.88989</td>\n",
       "      <td>-114.29685</td>\n",
       "    </tr>\n",
       "    <tr>\n",
       "      <th>1</th>\n",
       "      <td>El Capitan</td>\n",
       "      <td>9,983'</td>\n",
       "      <td>46.00746</td>\n",
       "      <td>-114.39604</td>\n",
       "    </tr>\n",
       "    <tr>\n",
       "      <th>2</th>\n",
       "      <td>The Shard (point 9883)</td>\n",
       "      <td>9,883'</td>\n",
       "      <td>45.95842</td>\n",
       "      <td>-114.33598</td>\n",
       "    </tr>\n",
       "    <tr>\n",
       "      <th>3</th>\n",
       "      <td>Boulder Peak</td>\n",
       "      <td>9,804'</td>\n",
       "      <td>45.84721</td>\n",
       "      <td>-114.34191</td>\n",
       "    </tr>\n",
       "    <tr>\n",
       "      <th>4</th>\n",
       "      <td>North Trapper Peak</td>\n",
       "      <td>9,801'</td>\n",
       "      <td>45.90064</td>\n",
       "      <td>-114.28955</td>\n",
       "    </tr>\n",
       "  </tbody>\n",
       "</table>\n",
       "</div>"
      ],
      "text/plain": [
       "              Summit Name Elevation  Latitude  Longitude\n",
       "0            Trapper Peak   10,157'  45.88989 -114.29685\n",
       "1              El Capitan    9,983'  46.00746 -114.39604\n",
       "2  The Shard (point 9883)    9,883'  45.95842 -114.33598\n",
       "3            Boulder Peak    9,804'  45.84721 -114.34191\n",
       "4      North Trapper Peak    9,801'  45.90064 -114.28955"
      ]
     },
     "execution_count": 78,
     "metadata": {},
     "output_type": "execute_result"
    }
   ],
   "source": [
    "peaks.head()"
   ]
  },
  {
   "cell_type": "code",
   "execution_count": 79,
   "metadata": {},
   "outputs": [
    {
     "name": "stdout",
     "output_type": "stream",
     "text": [
      "<class 'pandas.core.frame.DataFrame'>\n",
      "RangeIndex: 44 entries, 0 to 43\n",
      "Data columns (total 4 columns):\n",
      "Summit Name    44 non-null object\n",
      "Elevation      44 non-null object\n",
      "Latitude       44 non-null float64\n",
      "Longitude      44 non-null float64\n",
      "dtypes: float64(2), object(2)\n",
      "memory usage: 1.4+ KB\n"
     ]
    }
   ],
   "source": [
    "peaks.info()"
   ]
  },
  {
   "cell_type": "code",
   "execution_count": 80,
   "metadata": {},
   "outputs": [],
   "source": [
    "peaks.to_csv('clean_peaks.csv')"
   ]
  },
  {
   "cell_type": "code",
   "execution_count": null,
   "metadata": {},
   "outputs": [],
   "source": []
  },
  {
   "cell_type": "code",
   "execution_count": null,
   "metadata": {},
   "outputs": [],
   "source": []
  }
 ],
 "metadata": {
  "kernelspec": {
   "display_name": "Python 2",
   "language": "python",
   "name": "python2"
  },
  "language_info": {
   "codemirror_mode": {
    "name": "ipython",
    "version": 2
   },
   "file_extension": ".py",
   "mimetype": "text/x-python",
   "name": "python",
   "nbconvert_exporter": "python",
   "pygments_lexer": "ipython2",
   "version": "2.7.10"
  }
 },
 "nbformat": 4,
 "nbformat_minor": 2
}
